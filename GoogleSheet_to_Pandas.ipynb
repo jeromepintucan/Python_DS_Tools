{
 "cells": [
  {
   "cell_type": "code",
   "execution_count": 1,
   "metadata": {},
   "outputs": [],
   "source": [
    "import numpy as np\n",
    "import pandas as pd\n"
   ]
  },
  {
   "cell_type": "code",
   "execution_count": 3,
   "metadata": {},
   "outputs": [
    {
     "data": {
      "text/html": [
       "<div>\n",
       "<style scoped>\n",
       "    .dataframe tbody tr th:only-of-type {\n",
       "        vertical-align: middle;\n",
       "    }\n",
       "\n",
       "    .dataframe tbody tr th {\n",
       "        vertical-align: top;\n",
       "    }\n",
       "\n",
       "    .dataframe thead th {\n",
       "        text-align: right;\n",
       "    }\n",
       "</style>\n",
       "<table border=\"1\" class=\"dataframe\">\n",
       "  <thead>\n",
       "    <tr style=\"text-align: right;\">\n",
       "      <th></th>\n",
       "      <th>Key Words</th>\n",
       "      <th>Category</th>\n",
       "    </tr>\n",
       "  </thead>\n",
       "  <tbody>\n",
       "    <tr>\n",
       "      <th>0</th>\n",
       "      <td>Reasonable</td>\n",
       "      <td>Pricing</td>\n",
       "    </tr>\n",
       "    <tr>\n",
       "      <th>1</th>\n",
       "      <td>Overpriced</td>\n",
       "      <td>Pricing</td>\n",
       "    </tr>\n",
       "    <tr>\n",
       "      <th>2</th>\n",
       "      <td>Expensive</td>\n",
       "      <td>Pricing</td>\n",
       "    </tr>\n",
       "    <tr>\n",
       "      <th>3</th>\n",
       "      <td>Not worth the price</td>\n",
       "      <td>Pricing</td>\n",
       "    </tr>\n",
       "    <tr>\n",
       "      <th>4</th>\n",
       "      <td>Great Food</td>\n",
       "      <td>Food Quality and Taste</td>\n",
       "    </tr>\n",
       "    <tr>\n",
       "      <th>...</th>\n",
       "      <td>...</td>\n",
       "      <td>...</td>\n",
       "    </tr>\n",
       "    <tr>\n",
       "      <th>591</th>\n",
       "      <td>We Ordered The Mr Beast Style Fries With sauce...</td>\n",
       "      <td>Order Accuracy</td>\n",
       "    </tr>\n",
       "    <tr>\n",
       "      <th>592</th>\n",
       "      <td>The Fries Were Terrible Matigas Na Makunat</td>\n",
       "      <td>Food Quality and Taste</td>\n",
       "    </tr>\n",
       "    <tr>\n",
       "      <th>593</th>\n",
       "      <td>Taste Was Mid Highly Overrated Fries Was To</td>\n",
       "      <td>Food Quality and Taste</td>\n",
       "    </tr>\n",
       "    <tr>\n",
       "      <th>594</th>\n",
       "      <td>There Was Missing Drinks That I Paid Grilled</td>\n",
       "      <td>Order Accuracy</td>\n",
       "    </tr>\n",
       "    <tr>\n",
       "      <th>595</th>\n",
       "      <td>Where is my coke</td>\n",
       "      <td>Order Accuracy</td>\n",
       "    </tr>\n",
       "  </tbody>\n",
       "</table>\n",
       "<p>596 rows × 2 columns</p>\n",
       "</div>"
      ],
      "text/plain": [
       "                                             Key Words                Category\n",
       "0                                           Reasonable                 Pricing\n",
       "1                                           Overpriced                 Pricing\n",
       "2                                            Expensive                 Pricing\n",
       "3                                  Not worth the price                 Pricing\n",
       "4                                           Great Food  Food Quality and Taste\n",
       "..                                                 ...                     ...\n",
       "591  We Ordered The Mr Beast Style Fries With sauce...          Order Accuracy\n",
       "592         The Fries Were Terrible Matigas Na Makunat  Food Quality and Taste\n",
       "593        Taste Was Mid Highly Overrated Fries Was To  Food Quality and Taste\n",
       "594       There Was Missing Drinks That I Paid Grilled          Order Accuracy\n",
       "595                                   Where is my coke          Order Accuracy\n",
       "\n",
       "[596 rows x 2 columns]"
      ]
     },
     "execution_count": 3,
     "metadata": {},
     "output_type": "execute_result"
    }
   ],
   "source": [
    "gsheet_url = 'https://docs.google.com/spreadsheets/d/'\n",
    "sheet_id = '1xHgmmhVE4IA7F60qnNkuMQ6OxVpR7AEx'\n",
    "\n",
    "pd.read_excel(f'{gsheet_url}{sheet_id}/export?format=xlsx')"
   ]
  },
  {
   "cell_type": "code",
   "execution_count": null,
   "metadata": {},
   "outputs": [],
   "source": []
  }
 ],
 "metadata": {
  "kernelspec": {
   "display_name": "Python 3",
   "language": "python",
   "name": "python3"
  },
  "language_info": {
   "codemirror_mode": {
    "name": "ipython",
    "version": 3
   },
   "file_extension": ".py",
   "mimetype": "text/x-python",
   "name": "python",
   "nbconvert_exporter": "python",
   "pygments_lexer": "ipython3",
   "version": "3.11.4"
  }
 },
 "nbformat": 4,
 "nbformat_minor": 2
}
